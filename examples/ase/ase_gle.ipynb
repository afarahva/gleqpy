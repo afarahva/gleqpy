{
 "cells": [
  {
   "cell_type": "markdown",
   "id": "5ac55971-a5d3-4e95-83f2-bcf7040cff4f",
   "metadata": {},
   "source": [
    "# Example: GLE dynamics using the atomic simulation environment (ASE) package\n",
    "\n",
    "In this example we will set up a GLE simulation for a Pt(111) surface using the ASE package. \n",
    "\n",
    "We will assume GLE has been parametrized in such a way to allow surface sites to be effectively non-interacting."
   ]
  },
  {
   "cell_type": "code",
   "execution_count": 1,
   "id": "0968367b-1988-4926-bd77-e6c32f883bbd",
   "metadata": {},
   "outputs": [],
   "source": [
    "from ase import units, Atoms\n",
    "from ase.build import bulk, surface, fcc111\n",
    "from ase.io import Trajectory\n",
    "from ase.md.velocitydistribution import MaxwellBoltzmannDistribution\n",
    "\n",
    "import glepy.memory.time as memt\n",
    "from glepy.ase.forcefield import ZeroPotential, Harmonic3D, MorseZ_MetalAdsorbate, GroupForcefield\n",
    "from glepy.ase.dynamics import GLD, GLD_Aniso\n",
    "\n",
    "import numpy as np\n",
    "import matplotlib.pyplot as plt\n",
    "\n",
    "def read_frck(file):\n",
    "    \"\"\"\n",
    "    Read Potential of Mean Force from File\n",
    "    \"\"\"\n",
    "    handle = open(file,'r')\n",
    "    handle.readline()\n",
    "    handle.readline()\n",
    "    \n",
    "    line = handle.readline()[2:-2]\n",
    "    kx = np.fromstring(line,sep=\" \")\n",
    "    line = handle.readline()[2:-2]\n",
    "    ky = np.fromstring(line,sep=\" \")\n",
    "    line = handle.readline()[2:-3]\n",
    "    kz = np.fromstring(line,sep=\" \")\n",
    "    \n",
    "    frck = np.array([kx,ky,kz])\n",
    "    return frck"
   ]
  },
  {
   "cell_type": "markdown",
   "id": "dc72346b-fe1c-4426-b07c-96d874dcf574",
   "metadata": {},
   "source": [
    "We start by setting up the system and parsing the $A$ matrix from the appropriate file"
   ]
  },
  {
   "cell_type": "code",
   "execution_count": 2,
   "id": "731ee85a-6c45-484d-bfb6-c6f4ccdeec21",
   "metadata": {},
   "outputs": [],
   "source": [
    "##### Constants and Conversion Factors\n",
    "\n",
    "kbT_eV = 0.02585  # 300K in eV\n",
    "radperps_to_cm = 33.356 * 1.0/(2*np.pi) #rad/ps to cm-1\n",
    "units_ps = units.fs * 1e3 # ps to ase time units\n",
    "\n",
    "##### Script Parameters\n",
    "\n",
    "# Input File Arguments\n",
    "A_file     = \"Kz_5term.A\"\n",
    "K_file     = \"frck.dat\"\n",
    "\n",
    "# Simulation Arguments\n",
    "eq_steps    = 20000    # Equilibriation Steps\n",
    "run_steps   = 500000   # Production Steps\n",
    "temp        = 300      # Temperature\n",
    "dt          = 1.0      # Timestep in femtoseconds\n",
    "interval    = 5       # interval for writing out data\n",
    "\n",
    "# Lattice Arguments\n",
    "lattice_ele = \"Pt\"       # Lattice Element\n",
    "Nx, Ny, Nz = 1,1,1\n",
    "\n",
    "# Load GLE parameters, convert to ASE (metal) units\n",
    "Amat = np.loadtxt(A_file, delimiter=None)/units_ps\n",
    "\n",
    "# Load harmonic force constants, convert to ASE (metal) units\n",
    "frc_k = read_frck(K_file) * (units.kJ/units._Nav)"
   ]
  },
  {
   "cell_type": "markdown",
   "id": "1829ba16-8a7a-4fad-861e-f7ff6f5b67de",
   "metadata": {},
   "source": [
    "Now we run the simulation"
   ]
  },
  {
   "cell_type": "code",
   "execution_count": 3,
   "id": "462e2c20-92a5-4929-94a8-01c369ed1c40",
   "metadata": {},
   "outputs": [
    {
     "name": "stdout",
     "output_type": "stream",
     "text": [
      "Running Equilibriation\n",
      "Running Production\n",
      "Loading Data\n",
      "Done\n"
     ]
    }
   ],
   "source": [
    "##### Create Simulation System\n",
    "\n",
    "# Create Lattice \n",
    "Natom = Nx * Ny * Nz\n",
    "atoms = fcc111('Pt', size=(Nx, Ny, Nz))\n",
    "atoms.center(axis=2, vacuum = 10)\n",
    "atoms.translate([0, 0, -10])\n",
    "atoms.pbc=(True, True, False)\n",
    "\n",
    "# Set up Calculators\n",
    "pos_0 = atoms.positions.copy()\n",
    "calc = Harmonic3D(frc_k, atoms.positions.copy(), np.diag(atoms.get_cell()) )\n",
    "atoms.calc   = calc\n",
    "\n",
    "##### Run NVT/Equilibriation Step\n",
    "\n",
    "# Set the momenta corresponding to T=300K\n",
    "MaxwellBoltzmannDistribution(atoms, temperature_K=temp)\n",
    "\n",
    "# Run Simulation\n",
    "print(\"Running Equilibriation\")\n",
    "dyn_eq = GLD(atoms, dt*units.fs, Amat, Amat_units=\"ase\", temperature_K=temp, int_type=1)\n",
    "dyn_eq.run(eq_steps)\n",
    "\n",
    "##### Run Production Simulation\n",
    "print(\"Running Production\")\n",
    "dyn = GLD(atoms, dt*units.fs, Amat, Amat_units=\"ase\", temperature_K=temp, int_type=1)\n",
    "traj = Trajectory(\"md.traj\",'w', atoms)\n",
    "dyn.attach(traj.write, interval=interval)\n",
    "dyn.run(run_steps)\n",
    "\n",
    "##### End of Run File I/O\n",
    "\n",
    "print(\"Loading Data\")\n",
    "\n",
    "# Load trajectory\n",
    "traj_sim = Trajectory(\"md.traj\", 'r')\n",
    "\n",
    "pos_array = []\n",
    "vel_array = []\n",
    "frc_array = []\n",
    "\n",
    "for atoms in traj_sim:\n",
    "    pos = atoms.get_positions()\n",
    "    vel = atoms.get_velocities()\n",
    "    frc = atoms.get_forces()\n",
    "    \n",
    "    pos_array.append(pos)\n",
    "    vel_array.append(vel)\n",
    "    frc_array.append(frc)\n",
    "    \n",
    "# Convert units back to MD(Gromacs units)\n",
    "pos_array = np.array(pos_array) / (units.nm)\n",
    "vel_array = np.array(vel_array) / (units.nm / (units.fs * 1e3) )\n",
    "frc_array = np.array(frc_array) / (units.kJ/units._Nav/units.nm)\n",
    "\n",
    "print(\"Done\")"
   ]
  },
  {
   "cell_type": "markdown",
   "id": "13223c60-2e52-497c-8c02-8910aac27798",
   "metadata": {},
   "source": [
    "Now we extract the memory kernel and compare to the input"
   ]
  },
  {
   "cell_type": "code",
   "execution_count": 4,
   "id": "cb2ac336-e425-4073-b6d1-11d83c711d5d",
   "metadata": {},
   "outputs": [
    {
     "name": "stdout",
     "output_type": "stream",
     "text": [
      "Ave Temp = 2.7004 kJ/mol = 324.7908 Kelvin\n",
      "Spring Constant calc: \n",
      " [[102.836  -5.29   -0.923]\n",
      " [ -5.29  167.991   2.849]\n",
      " [ -0.923   2.849 289.978]]\n",
      "Spring Constant inpt \n",
      " [[ 99.   -4.9  -0.6]\n",
      " [ -4.9 152.6   0. ]\n",
      " [ -0.6   0.  308. ]]\n",
      "calculating velocity tcfs\n",
      "calculating force tcfs\n"
     ]
    },
    {
     "name": "stderr",
     "output_type": "stream",
     "text": [
      "/Users/ardavan/miniconda3/envs/ase_x86/lib/python3.10/site-packages/matplotlib/cbook/__init__.py:1298: ComplexWarning: Casting complex values to real discards the imaginary part\n",
      "  return np.asarray(x, float)\n"
     ]
    },
    {
     "data": {
      "text/plain": [
       "<matplotlib.legend.Legend at 0x7ff6a1dcac20>"
      ]
     },
     "execution_count": 4,
     "metadata": {},
     "output_type": "execute_result"
    },
    {
     "data": {
      "image/png": "[encoded data removed]",
      "text/plain": [
       "<Figure size 432x288 with 1 Axes>"
      ]
     },
     "metadata": {},
     "output_type": "display_data"
    }
   ],
   "source": [
    "##### Extract Memory\n",
    "\n",
    "def harm3D(x, xeq, frck):\n",
    "    \"\"\"\n",
    "    3D anisotropic harmonic potential.\n",
    "    \"\"\"\n",
    "    x = (x - xeq)\n",
    "    frc =  - np.einsum(\"ij,tdj->tdi\",frck,x)\n",
    "    return frc\n",
    "    \n",
    "# Atom parameters\n",
    "nsys = len(atoms)\n",
    "m = atoms.get_masses()[0]\n",
    "\n",
    "# Calculate averate temperature\n",
    "kbT_traj = m/3 * np.sum( np.mean( vel_array**2, axis=1), axis=1)\n",
    "kbT = kbT_traj.mean()\n",
    "print(\"Ave Temp = %4.4f kJ/mol = %4.4f Kelvin\"%(kbT, 120.2731 * kbT))\n",
    "\n",
    "# Calculate Force Constants\n",
    "pos_mean = pos_array.mean(axis=0)\n",
    "\n",
    "frck_md = []\n",
    "for i in range(nsys):\n",
    "    frck_md.append( kbT * np.linalg.inv( np.cov( pos_array[:,i,:],rowvar=False) ) )\n",
    "frck_md = np.array(frck_md).mean(axis=0)\n",
    "\n",
    "print(\"Spring Constant calc: \\n\", frck_md.round(1)/100)\n",
    "print(\"Spring Constant inpt \\n\",   frc_k / (units.kJ/units._Nav) )\n",
    "\n",
    "dpmf = harm3D(pos_array, pos_mean, frc_k / (units.kJ/units._Nav)*100)\n",
    "\n",
    "dt_md = dt/1000\n",
    "stride = interval\n",
    "tcorr = 2000\n",
    "\n",
    "pos = pos_array.reshape(-1,nsys*3)\n",
    "vel = vel_array.reshape(-1,nsys*3)\n",
    "frc = frc_array.reshape(-1,nsys*3)\n",
    "acc = np.gradient(vel, dt_md*stride, axis=0)\n",
    "dpmf = dpmf.reshape(-1,nsys*3)\n",
    "\n",
    "tarr = np.arange(tcorr)*dt_md*stride\n",
    "tarr_mid = (tarr[1:]+tarr[0:-1])/2.0\n",
    "\n",
    "# Calculate Correlation Functions\n",
    "print(\"calculating velocity tcfs\")\n",
    "vel_tcf  = memt.calc_tcf(vel, vel, max_t=tcorr, mode=\"scipy\")[:,2::3].mean(axis=-1)\n",
    "dvel_tcf = -memt.calc_tcf(vel, acc, max_t=tcorr, mode=\"scipy\")[:,2::3].mean(axis=-1)\n",
    "\n",
    "print(\"calculating force tcfs\")\n",
    "frc_tcf      =  memt.calc_tcf(acc - dpmf/m, vel, max_t=tcorr, mode=\"scipy\")[:,2::3].mean(axis=-1)\n",
    "dfrc_tcf     = -memt.calc_tcf(acc - dpmf/m, acc, max_t=tcorr, mode=\"scipy\")[:,2::3].mean(axis=-1)\n",
    "\n",
    "# Memory Kernels - Different Methods\n",
    "Ktrap = memt.calc_memory_dtrapz(dvel_tcf, dfrc_tcf, vel_tcf[0], dt_md*stride)\n",
    "Kmid = memt.calc_memory_midpt(vel_tcf, frc_tcf, dt_md*stride)\n",
    "Kfft = memt.calc_memory_fft(vel_tcf, frc_tcf, dt_md*stride)\n",
    "\n",
    "# True Memory Kernel\n",
    "Amat_cnvrt = Amat * (units.fs * 1e3)\n",
    "As  = Amat_cnvrt[1:,1:]\n",
    "Asv = Amat_cnvrt[1:,0:1]\n",
    "Avs = Amat_cnvrt[0:1,1:]\n",
    "Kt_inp = -Avs @  memt.matrixexp(-As,tarr, Hermitian=False) @ Asv\n",
    "Kt_inp = Kt_inp[:,0,0]\n",
    "\n",
    "plt.figure()\n",
    "plt.plot(tarr, Ktrap, color=\"b\", label=\"trapz - extracted memory kernel\")\n",
    "plt.plot(tarr_mid,Kmid, color=\"r\", label=\"mid - extracted memory kernel\")\n",
    "plt.plot(tarr, Kt_inp, color=\"k\", linewidth=3.0, alpha=0.5, label=\"input memory kernel\")\n",
    "plt.xlabel(\"t (ps)\")\n",
    "plt.ylabel(\"K(t)\")\n",
    "plt.legend(frameon=False)"
   ]
  },
  {
   "cell_type": "markdown",
   "id": "6493cf1f-67ad-4355-8bf0-920bf812af30",
   "metadata": {},
   "source": [
    "Better sampling (longer simulation) leads to better agreement. "
   ]
  }
 ],
 "metadata": {
  "kernelspec": {
   "display_name": "Python 3 (Spyder)",
   "language": "python3",
   "name": "python3"
  },
  "language_info": {
   "codemirror_mode": {
    "name": "ipython",
    "version": 3
   },
   "file_extension": ".py",
   "mimetype": "text/x-python",
   "name": "python",
   "nbconvert_exporter": "python",
   "pygments_lexer": "ipython3",
   "version": "3.10.13"
  }
 },
 "nbformat": 4,
 "nbformat_minor": 5
}

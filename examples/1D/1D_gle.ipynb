{
 "cells": [
  {
   "cell_type": "markdown",
   "id": "391f19a1-9fc5-4a01-8e90-1cafd56a9f42",
   "metadata": {},
   "source": [
    "# Example: 1D GLE Dynamics and Memory Kernel Extraction\n",
    "\n",
    "In this notebook I demonstrate how to run a very simple 1D generalized Langevin dynamics simulation using the in-house MD integrator of glepy. Subsequently, I demosntrate how to calculate the memory/friction kernel from the MD and show that it is consistent with the input. \n"
   ]
  },
  {
   "cell_type": "markdown",
   "id": "f190b029-7e24-4d13-ad4d-d99dea5688f1",
   "metadata": {},
   "source": [
    "# Running GLE dynamics\n",
    "\n",
    "We begin by setting up and running GLE dynamics using 1D system with a harmonic potential and a simple damped-exponential memory kernel:\n",
    "\n",
    "$$K(t) = C e^{-\\gamma t} \\cos(\\omega t) = -\\mathbf{A}_{vs} e^{-\\mathbf{A}_{s}t} \\mathbf{A}_{sv} $$\n",
    "\n",
    "The memory kernel is related to the parameters of the Ornstein-Uhlenbeck $\\mathbf{A}$ matrices by:\n",
    "\n",
    "$$\n",
    "A_{vs} =\n",
    "\\begin{pmatrix}\n",
    "    \\sqrt{C/2} & \\sqrt{C/2}\n",
    "\\end{pmatrix}\n",
    "$$\n",
    "\n",
    "$$\n",
    "A_{sv} =\n",
    "\\begin{pmatrix}\n",
    "    \\sqrt{C/2} \\\\\n",
    "    \\sqrt{C/2}\n",
    "\\end{pmatrix}\n",
    "$$\n",
    "\n",
    "$$\n",
    "A_{s} =\n",
    "\\begin{pmatrix}\n",
    "    2 \\gamma & \\sqrt{\\omega^2+\\gamma^2} \\\\\n",
    "    -\\sqrt{\\omega^2+\\gamma^2} & 0\n",
    "\\end{pmatrix}\n",
    "$$\n",
    "\n",
    "These matrices are the input we provide the GLE integrator. For more details on the derivation of these matrices see the following paper: \n",
    "\n",
    "Ceriotti, M.; Bussi, G.; Parrinello, M. Langevin Equation with Colored Noise for Constant-Temperature Molecular Dynamics Simulations. Phys. Rev. Lett. 2009, 102 (2), 020601. https://doi.org/10.1103/PhysRevLett.102.020601.\n"
   ]
  },
  {
   "cell_type": "code",
   "execution_count": 1,
   "id": "2d5f5a21-943b-42fb-8f5a-63852e797899",
   "metadata": {},
   "outputs": [],
   "source": [
    "##### Import dependencies and set up simulation parameters\n",
    "\n",
    "import numpy as np\n",
    "import matplotlib.pyplot as plt\n",
    "\n",
    "from glepy.memory import time as memt\n",
    "import glepy.md.dynamics as md\n",
    "import glepy.md.forcefield as FFgen\n",
    "\n",
    "plt.rcParams['font.family'] = 'serif'\n",
    "plt.rcParams['axes.labelsize'] = 28\n",
    "plt.rcParams['axes.labelweight'] = 'bold'\n",
    "plt.rcParams['xtick.labelsize'] =  22\n",
    "plt.rcParams['xtick.direction'] = 'in'\n",
    "plt.rcParams['xtick.top'] = True\n",
    "plt.rcParams['ytick.labelsize'] = 22\n",
    "plt.rcParams['ytick.direction'] = 'in'\n",
    "plt.rcParams['ytick.right'] = True\n",
    "plt.rcParams['legend.fontsize'] = 18\n",
    "plt.rcParams['figure.titlesize'] = 28\n",
    "plt.rcParams['lines.linewidth'] = 1.5\n",
    "plt.rcParams['text.usetex'] = True\n",
    "\n",
    "# System parameters\n",
    "nsys = 10           # number of system degrees of freedom\n",
    "ndim = 1            # dimension of system\n",
    "m = 195.084         # mass of system particles\n",
    "\n",
    "# Forcefield parameters\n",
    "frc_k = 30000              # harmonic force constant\n",
    "x0 = np.zeros((nsys,ndim)) # equilibrium position of harmonic potential\n",
    "\n",
    "# Bath Arguments\n",
    "temp        = 2.4943  # Temperature\n",
    "md.kb       = 1       # Boltzmann constant\n",
    "\n",
    "# Ornstein-Uhlenbeck parameter matrices\n",
    "Amat = np.array([\n",
    "[0.0, -10.0, -10.0],\n",
    "[10.0, 0.5, 5],\n",
    "[10.0, -5, 0.0]\n",
    "])\n",
    "As  = Amat[1:,1:]\n",
    "Bs  = np.sqrt(md.kb * temp * (As + As.T))\n",
    "Asv = Amat[1:,0:1]\n",
    "Avs = Amat[0:1,1:]\n",
    "\n",
    "# Simulation parameters\n",
    "eq_steps    = 20000    # Equilibriation Steps\n",
    "run_steps   = 500000   # Production Steps\n",
    "dt          = 0.001\n",
    "stride      = 5"
   ]
  },
  {
   "cell_type": "code",
   "execution_count": 2,
   "id": "b73f9c3d-5d63-42a8-bf20-40fbef06daa6",
   "metadata": {},
   "outputs": [
    {
     "name": "stdout",
     "output_type": "stream",
     "text": [
      "Running Equilibriation\n",
      "Running Dynamics\n",
      "Done\n"
     ]
    }
   ],
   "source": [
    "##### Set up Forcefield and simulations objects\n",
    "\n",
    "# Create Forcefield\n",
    "ff = FFgen.ff_harm(nsys, ndim, frc_k, x0)\n",
    "\n",
    "# Set initial conditions according to averages @ thermal equilibrium  \n",
    "pos0 = np.random.normal(loc=x0,  scale = np.sqrt((md.kb*temp)/frc_k), size=(nsys,ndim))\n",
    "vel0 = np.random.normal(loc=0.0, scale = np.sqrt(md.kb*temp/m), size=(nsys,ndim))\n",
    "\n",
    "# Create system and integrator objects\n",
    "system = md.System(m,nsys=nsys,ndim=ndim,box_dim=1000)\n",
    "system.pos = pos0\n",
    "system.vel = vel0\n",
    "\n",
    "integrator = md.GLD(system, ff, dt, temp, As, Avs, Asv, Bs, PBC=False)\n",
    "\n",
    "print(\"Running Equilibriation\")\n",
    "integrator.run( int(eq_steps) )\n",
    "\n",
    "print(\"Running Dynamics\")\n",
    "report1 = md.reporter_PosVelAccFrc()\n",
    "report2 = md.reporter_Temp(kb=md.kb, m=m, ndim=1)\n",
    "integrator.reporters = [report1,report2]\n",
    "integrator.reportints = [stride,10]\n",
    "integrator.run( int(run_steps) )\n",
    "\n",
    "pos,vel,acc,frc = report1.output()\n",
    "temp_sim = report2.output()\n",
    "print(\"Done\")"
   ]
  },
  {
   "cell_type": "markdown",
   "id": "f24baff6-743b-43b1-80e1-243bb62536d1",
   "metadata": {},
   "source": [
    "# Extract memory kernel\n",
    "\n",
    "Now that we have run the dynamics, we wish to use an algorithm to extract/compute the memory kernel and compare to the original results. The particle in our simulation obeys:\n",
    "$$ m \\ddot{x}(t) = -\\frac{d W}{dx}(t) - \\int_0^t K(t-\\tau) \\dot{x}(\\tau) d\\tau + R(t) $$\n",
    "\n",
    "where $W(x)$ is the potential of mean force and $K(t)$ is the memory/friciton kernel and $R(t)$ is the colored (Ornstein-Uhlenbeck) noise. If multiply both sides by $\\dot{x}(0)$ and take the equilibrium average:\n",
    "\n",
    "$$ \\left \\langle \\left[m \\ddot{x}(t) + \\frac{d W}{dx}(t) \\right]  \\dot{x}(0) \\right \\rangle = - \\int_0^t K(t-\\tau) \\left \\langle \\dot{x}(\\tau) \\dot{x}(0) \\right \\rangle d\\tau $$ \n",
    "\n",
    "Which we can simplify to:\n",
    "\n",
    "$$ C_f(t) = - \\int_0^t K(t-\\tau) C_v(\\tau) d\\tau $$\n",
    "\n",
    "where $C_f$ is a force-velocity correlation function and $C_v$ is the velocity-velocity autocorrelaiton function. This Volterra equation may either be solved by using the FFT along with the convolution theorem or by choosing a particular time-quadrature for the convolution integral through which the equation can be solved iteratively. We will explore both options below:"
   ]
  },
  {
   "cell_type": "code",
   "execution_count": 3,
   "id": "98c44658-209a-4fec-9e98-aef433c54e16",
   "metadata": {},
   "outputs": [
    {
     "name": "stdout",
     "output_type": "stream",
     "text": [
      "Temp = 2.7221 kJ/mol = 327.3984 Kelvin\n",
      "Mean Position:  -3.008853604272887e-05\n",
      "Spring Constant calc 308.45, input 300.00 (kJ/mol/Ang^2)\n",
      "\n",
      "calculating velocity tcfs\n",
      "calculating force tcfs\n",
      "calculating memory kernels\n",
      "Done\n"
     ]
    }
   ],
   "source": [
    "pos,vel,acc,frc = report1.output()\n",
    "\n",
    "# Calculate temperature from MD samples\n",
    "kbT = m/ndim * np.sum( np.mean( vel**2, axis=1), axis=1).mean()\n",
    "print(\"Temp = %4.4f kJ/mol = %4.4f Kelvin\"%(kbT, 120.2731 * kbT))\n",
    "\n",
    "# Calculate Force Constants\n",
    "pos_mean = np.mean(pos)\n",
    "print(\"Mean Position: \",pos_mean)\n",
    "\n",
    "frck_md = ( kbT / np.var(pos,axis=0) ).mean()\n",
    "print(\"Spring Constant calc %0.2f, input %0.2f (kJ/mol/Ang^2)\\n\"%(frck_md/100,frc_k/100))\n",
    "\n",
    "# Derivative of potential fo Mean Force (coarse-grained force)\n",
    "dpmf_func = FFgen.ff_harm(nsys, ndim, frck_md, pos_mean)\n",
    "dpmf = dpmf_func.calc_frc(pos)\n",
    "\n",
    "# Reshape arrays\n",
    "pos = pos.reshape(-1,nsys*ndim)\n",
    "vel = vel.reshape(-1,nsys*ndim)\n",
    "frc = frc.reshape(-1,nsys*ndim)\n",
    "acc = acc.reshape(-1,nsys*ndim)\n",
    "dpmf = dpmf.reshape(-1,nsys*ndim)\n",
    "\n",
    "# Time-axis\n",
    "tcorr = 2000 # number of timesteps to use to compute memory kernel\n",
    "tarr = np.arange(tcorr)*dt*stride # time array\n",
    "tarr_mid = (tarr[1:]+tarr[0:-1])/2.0\n",
    "\n",
    "# Calculate Correlation Functions\n",
    "print(\"calculating velocity tcfs\")\n",
    "vel_tcf  = memt.calc_tcf(vel, vel, max_t=tcorr, mode=\"scipy\").mean(axis=1)\n",
    "dvel_tcf = -memt.calc_tcf(vel, acc, max_t=tcorr, mode=\"scipy\").mean(axis=1)\n",
    "\n",
    "print(\"calculating force tcfs\")\n",
    "frc_tcf      =  memt.calc_tcf(acc - dpmf/m, vel, max_t=tcorr, mode=\"scipy\").mean(axis=1)\n",
    "dfrc_tcf     = -memt.calc_tcf(acc - dpmf/m, acc, max_t=tcorr, mode=\"scipy\").mean(axis=1)\n",
    "\n",
    "# Memory Kernels - Different Methods\n",
    "print(\"calculating memory kernels\")\n",
    "Ktrap = memt.calc_memory_dtrapz(dvel_tcf, dfrc_tcf, vel_tcf[0], dt*stride)\n",
    "Kmid = memt.calc_memory_midpt(vel_tcf, frc_tcf, dt*stride)\n",
    "Kfft = memt.calc_memory_fft(vel_tcf, frc_tcf, dt*stride)\n",
    "\n",
    "# True Memory Kernel\n",
    "Kt_inp = -Avs @  memt.matrixexp(-As,tarr, Hermitian=False) @ Asv\n",
    "Kt_inp = Kt_inp[:,0,0]\n",
    "print(\"Done\")"
   ]
  },
  {
   "cell_type": "code",
   "execution_count": 5,
   "id": "6d48a0b1-f2b3-40ec-bc84-69c161bde326",
   "metadata": {},
   "outputs": [
    {
     "data": {
      "image/png": "[encoded data removed]",
      "text/plain": [
       "<Figure size 576x288 with 1 Axes>"
      ]
     },
     "metadata": {},
     "output_type": "display_data"
    }
   ],
   "source": [
    "# Plot\n",
    "plt.figure(figsize=[8,4])\n",
    "plt.plot(tarr, np.real(Kt_inp), color=\"k\", linewidth=3.0, alpha=0.3, label=r\"$K(t)$ input\")\n",
    "plt.plot(tarr, Ktrap,  color=\"b\", linewidth=1.0, alpha=0.5, label=r\"$K(t)$ trapz method\")\n",
    "plt.plot(tarr_mid, Kmid, color=\"g\", linewidth=1.0, alpha=0.5, label=r\"$K(t)$ midpt method\")\n",
    "#plt.plot(tarr[1:],np.real(Kfft[1:]), color=\"r\", linewidth=1.0, alpha=0.5, label=r\"$K(t)$ fft method\")\n",
    "plt.ylabel(\"K(t)\")\n",
    "plt.xlabel(\"t\")\n",
    "plt.legend(frameon=False)\n",
    "plt.ylim(-200,300)\n",
    "plt.savefig(\"./memory.png\",dpi=300,bbox_inches=\"tight\")"
   ]
  },
  {
   "cell_type": "markdown",
   "id": "288d32ed-69a1-4b64-8fa5-5dddde0837b0",
   "metadata": {},
   "source": [
    "# 3: Conclusions\n",
    "\n",
    "We see that the trapezoidal and midpoint quadrature solutions to the Volterra equation are much more numerically accurate than the FFT method. \n",
    "\n",
    "In general, small errors in the potential of mean force lead to large errors in the memory kernel when using the FFT method.\n",
    "This is due to the step where we take a ratio between two functions in frequency space. "
   ]
  }
 ],
 "metadata": {
  "kernelspec": {
   "display_name": "Python 3 (Spyder)",
   "language": "python3",
   "name": "python3"
  },
  "language_info": {
   "codemirror_mode": {
    "name": "ipython",
    "version": 3
   },
   "file_extension": ".py",
   "mimetype": "text/x-python",
   "name": "python",
   "nbconvert_exporter": "python",
   "pygments_lexer": "ipython3",
   "version": "3.10.13"
  }
 },
 "nbformat": 4,
 "nbformat_minor": 5
}
